{
  "nbformat": 4,
  "nbformat_minor": 0,
  "metadata": {
    "colab": {
      "name": "Functions Explained",
      "provenance": [],
      "collapsed_sections": [],
      "authorship_tag": "ABX9TyNxoF0FvD32Zm+uYpShBjLQ",
      "include_colab_link": true
    },
    "kernelspec": {
      "name": "python3",
      "display_name": "Python 3"
    }
  },
  "cells": [
    {
      "cell_type": "markdown",
      "metadata": {
        "id": "view-in-github",
        "colab_type": "text"
      },
      "source": [
        "<a href=\"https://colab.research.google.com/github/YorkWestenhaver/RL/blob/main/Function%20types%20Explained.ipynb\" target=\"_parent\"><img src=\"https://colab.research.google.com/assets/colab-badge.svg\" alt=\"Open In Colab\"/></a>"
      ]
    },
    {
      "cell_type": "markdown",
      "metadata": {
        "id": "BD1b1yaBTzQs"
      },
      "source": [
        "# Injective, Surjective & Bijective\n",
        "---"
      ]
    },
    {
      "cell_type": "markdown",
      "metadata": {
        "id": "Jarky5QjT-kQ"
      },
      "source": [
        "**First check out this chart:**\n",
        "\n",
        "X|Surjective | non-Surjective\n",
        "---|---|---\n",
        "Injective |Bijective |Injective only\n",
        "non-Injective|Surjective only | general\n",
        "\n",
        "This chart characterizes the relationship between 4 types of equation. Before we explain these 4 types, we're going to define what Injective and Surjective mean.\n",
        "1.   [Injective Functions](https://en.wikipedia.org/wiki/Injective_function):\n",
        "\n",
        "> a function that maps distinct elements of its domain to distinct elements of its codomain; a function that is one-to-one.\n",
        "\n",
        "Or, more robustly:\n",
        "\n",
        ">For all values of the <font color='limegreen'>$a$</font> and <font color='limegreen'>$b$</font> in the Domain <font color='white'>$X$</font>, if the <font color='limegreen'>inputs</font> of a function are the same, then the <font color='coral'>outputs of that function</font> are the same.\n",
        "\n",
        "\n",
        "So, written symbolically, an injective function is:\n",
        "\n",
        ">$\\forall$<font color='limegreen'>$a$</font>, <font color='limegreen'>$b$ </font>$\\in$ <font color='white'>$X$</font>, <font color='coral'>$f($</font><font color='limegreen'>$a$</font><font color='coral'>$)$</font> = <font color='coral'>$f($</font><font color='limegreen'>$b$</font><font color='coral'>$)$</font> $\\Rightarrow$ <font color='limegreen'>$a$</font> = <font color='limegreen'>$b$ </font>\n",
        "\n",
        "More generally this means that if both <font color='limegreen'>$x$</font> and <font color='coral'>$f(x)$</font> are on $\\mathbb{R}$ (the real number line), then no horizontal line intersects the function more than once.\n",
        "\n",
        ">There are multiple other methods of proving that a function is injective: \n",
        ">* If $f$ is a differentiable function defined on some interval, then it is sufficient to show that the derivative is always positive or always negative on that interval.\n",
        ">* In linear algebra, if f is a linear transformation it is sufficient to show that the kernel of f contains only the zero vector.\n",
        ">* If f is a function with finite domain it is sufficient to look through the list of images of each domain element and check that no image occurs twice on the list.\n",
        "\n",
        "Here are some example <font color='coral'>Injective Functions</font>:\n",
        "\n",
        "> $f(x) = x$\n",
        ">\n",
        ">$f(x) = e^{x}$\n",
        ">\n",
        ">$f(x) = ln(x): x=(0,\\infty )$\n",
        "\n",
        "2.   [Surjective Functions](https://en.wikipedia.org/wiki/Surjective_function)\n",
        "\n",
        "> A Surjective Function is a function whose Image is equal to its Codomain.\n",
        "\n",
        "3.   [Bijective Functions](https://en.wikipedia.org/wiki/Bijective_function)\n",
        "\n"
      ]
    },
    {
      "cell_type": "markdown",
      "metadata": {
        "id": "QHOZHqHXWNlL"
      },
      "source": [
        "## Code Examples\n"
      ]
    },
    {
      "cell_type": "code",
      "metadata": {
        "id": "mHbanVJPMXGm",
        "colab": {
          "base_uri": "https://localhost:8080/",
          "height": 35
        },
        "outputId": "9c41f5f4-a47a-4615-e68e-c0fe814e0f3b"
      },
      "source": [
        "'''Injective Computational Graph'''\n",
        "from graphviz import Digraph\n",
        "\n",
        "injective = Digraph('injective', filename='injective.gv')\n",
        "\n",
        "with injective.subgraph(name='cluster_0') as c:\n",
        "    c.node('A')\n",
        "    c.node('B')\n",
        "    c.node('C')\n",
        "    c.node('D')\n",
        "    c.attr(label='Domain')\n",
        "\n",
        "with injective.subgraph(name='cluster_1') as c:\n",
        "    c.node('W')\n",
        "    c.node('X')\n",
        "    c.node('Y')\n",
        "    c.node('Z')\n",
        "    c.attr(label='Codomain')\n",
        "\n",
        "injective.edge('A','W',arrowsize='.5')\n",
        "injective.edge('B','X',arrowsize='.5')\n",
        "injective.edge('C','Y',arrowsize='.5')\n",
        "injective.edge('D','Z',arrowsize='.5')\n",
        "injective.attr(label='injective', rankdir='LR',labelloc='t')\n",
        "\n",
        "'''Bijective Graph'''\n",
        "\n",
        "#basic_graph"
      ],
      "execution_count": null,
      "outputs": [
        {
          "output_type": "execute_result",
          "data": {
            "application/vnd.google.colaboratory.intrinsic+json": {
              "type": "string"
            },
            "text/plain": [
              "'Bijective Graph'"
            ]
          },
          "metadata": {},
          "execution_count": 1
        }
      ]
    },
    {
      "cell_type": "code",
      "metadata": {
        "id": "o8kqALVZ2FcT"
      },
      "source": [
        "from graphviz import Digraph\n",
        "\n",
        "injective = Digraph('injective', filename='injective.gv')\n",
        "\n",
        "with injective.subgraph(name='cluster_0') as c:\n",
        "    c.node('A')\n",
        "    c.node('B')\n",
        "    c.node('C')\n",
        "    c.node('D')\n",
        "    c.attr(label='Domain')\n",
        "\n",
        "with injective.subgraph(name='cluster_1') as c:\n",
        "    c.node('W')\n",
        "    c.node('X')\n",
        "    c.node('Y')\n",
        "    c.node('Z')\n",
        "    c.attr(label='Codomain')\n",
        "\n",
        "injective_non_surjective = basic_graph\n",
        "non_injective_non_surjective = basic_graph\n",
        "non_injective_surjective = basic_graph\n",
        "bijective = basic_graph\n",
        "\n",
        "bijective.edge('A','W',arrowsize='.5')\n",
        "bijective.edge('B','X',arrowsize='.5')\n",
        "bijective.edge('C','Y',arrowsize='.5')\n",
        "bijective.edge('D','Z',arrowsize='.5')\n",
        "bijective.attr(label='Bijective', rankdir='LR',labelloc='t')"
      ],
      "execution_count": null,
      "outputs": []
    },
    {
      "cell_type": "code",
      "metadata": {
        "id": "zVj1e_dRSqyu",
        "colab": {
          "base_uri": "https://localhost:8080/",
          "height": 35
        },
        "outputId": "e5b7858b-94d5-4170-f312-3502e8606422"
      },
      "source": [
        "from graphviz import Digraph\n",
        "\n",
        "c = Digraph('theorem_hierarchy', filename='theorem_hierarchy.gv')\n",
        "\n",
        "c.node('definition 1')\n",
        "c.node('definition 2')\n",
        "c.node('axiom/postulate 1')\n",
        "c.node('axoim/postulate 2')\n",
        "c.node('Lemma 1')\n",
        "c.node('Lemma 2')\n",
        "c.node('Theorem 1 1')\n",
        "c.node('Theorem 2')\n",
        "\n",
        "\n",
        "\n",
        "'''Bijective Graph'''\n",
        "\n",
        "#basic_graph"
      ],
      "execution_count": null,
      "outputs": [
        {
          "output_type": "execute_result",
          "data": {
            "application/vnd.google.colaboratory.intrinsic+json": {
              "type": "string"
            },
            "text/plain": [
              "'Bijective Graph'"
            ]
          },
          "metadata": {
            "tags": []
          },
          "execution_count": 5
        }
      ]
    },
    {
      "cell_type": "markdown",
      "metadata": {
        "id": "icjWwsJh9A0b"
      },
      "source": [
        "# The Structure of Proofs\n",
        "---"
      ]
    },
    {
      "cell_type": "markdown",
      "metadata": {
        "id": "T6Oct4Ci9Miv"
      },
      "source": [
        "**Mathematical Proof:**\n",
        ">A mathematical proof is an inferential argument for a mathematical statement, showing that the stated assumptions logically guarantee the conclusion\n",
        "\n",
        "There are several different"
      ]
    },
    {
      "cell_type": "markdown",
      "metadata": {
        "id": "DdMjCNAJDO1A"
      },
      "source": [
        "# Multi Variable Calculus\n",
        "---"
      ]
    },
    {
      "cell_type": "markdown",
      "metadata": {
        "id": "bW9JI2_9DU8V"
      },
      "source": [
        "## Vector Notation"
      ]
    },
    {
      "cell_type": "markdown",
      "metadata": {
        "id": "cutkcxVWDbLw"
      },
      "source": [
        "You can write a vector in many different ways:\n",
        "$$\\vec{v} = (1,2,3) = \\begin{bmatrix}1\\\\2\\\\3\\end{bmatrix} = 1\\hat{i} + 2\\hat{j} + 3\\hat{k}$$\n",
        "\n",
        "The <font color='MediumVioletRed'>Magnitude</font> of a vector can be written in two ways:\n",
        "$$\\left \\| \\vec{v} \\right \\| = \\left | \\vec{v} \\right |$$\n",
        "\n",
        "\n"
      ]
    },
    {
      "cell_type": "markdown",
      "metadata": {
        "id": "hZe85hKBJCut"
      },
      "source": [
        "## Dot & Cross Product"
      ]
    },
    {
      "cell_type": "markdown",
      "metadata": {
        "id": "w0_LTcnxMhtm"
      },
      "source": [
        "The <font color='pink'>dot product</font> is a fundamental way we can combine two vectors. Intuitively, it tells us something about *how much two vectors point in the same direction*.\n",
        "\n",
        "><font color='yellow'>$\\vec{a}$</font><font color='pink'>$\\cdot$</font><font color='red'>$\\vec{b}$</font>$=\\left\\|\\vec{a}\\right \\| \\left \\|\\vec{b}  \\right \\| \\mathrm{cos}(\\theta )$\n",
        "\n",
        "*(pronounced \"a dot b\")*\n",
        "\n",
        "Another way to think about $\\theta$ is to imagine one vector dropping a shadow on to the other. When the angle is small, the shadow lands far from the origin and the dot product is large.\n",
        "\n",
        "There is a ***better way*** to compute the dot product though!\n",
        "\n",
        ">$\\vec{a}=\\left (a_{1},a_{2},a_{3} \\right )$\n",
        ">\n",
        ">$\\vec{b}=\\left (b_{1},b_{2},b_{3} \\right )$\n",
        ">\n",
        ">$\\vec{a} \\cdot \\vec{b}=a_{1}b_{1}+a_2b_2+a_3b_3$\n",
        "\n",
        "Isn't that much easier!!\n",
        "\n",
        "---\n",
        "<font color='OrangeRed'>The Cross Product</font>, written\n",
        ">$\\vec{a}$<font color='OrangeRed'> $\\times$ </font>$\\vec{b}$\n",
        ">\n",
        ">Pronounced \"a cross b\"\n",
        "\n",
        "is perpendicular to $\\vec{a}$ and $\\vec{b}$.\n",
        "\n",
        ">Unlike the dot product, which returns a number, the result of a cross product is another vector. Let's say that:\n",
        "\n",
        "$$\\vec{a} \\times \\vec{b} = \\vec{c}$$\n",
        "\n",
        "The <font color='MediumVioletRed'>Magnitude</font> of <font color='OrangeRed'>$\\vec{c}$</font>:\n",
        "\n",
        "$\\| \\vec{c} \\| = \\| \\vec{a} \\| \\| \\vec{b} \\| \\sin(\\theta)$\n",
        "\n",
        ">This property alone makes the cross product quite useful. This is also why the cross product only works in three dimensions. In 2D, there isn't always a vector perpendicular to any pair of other vectors. In four and more dimensions, there are infinitely many vectors perpendicular to a given pair of other vectors.\n"
      ]
    }
  ]
}