{
  "nbformat": 4,
  "nbformat_minor": 0,
  "metadata": {
    "colab": {
      "name": "My AI Model.ipynb",
      "provenance": [],
      "collapsed_sections": [
        "vU4rfL2gzIz_",
        "_kHYuV2RzDd3",
        "1LBAEc8qhVze",
        "xvdf3rB_7f5W",
        "P7FzLyEXOb8-",
        "9-_jJhL_X7oU",
        "4XDkWPsjmavQ",
        "6H8V1tHhpLa_",
        "dkz_58cvabsK"
      ],
      "authorship_tag": "ABX9TyOw5HXUnDR3J3ociLWfh5I5",
      "include_colab_link": true
    },
    "kernelspec": {
      "name": "python3",
      "display_name": "Python 3"
    }
  },
  "cells": [
    {
      "cell_type": "markdown",
      "metadata": {
        "id": "view-in-github",
        "colab_type": "text"
      },
      "source": [
        "<a href=\"https://colab.research.google.com/github/YorkWestenhaver/RL/blob/main/An%20AI%20Model.ipynb\" target=\"_parent\"><img src=\"https://colab.research.google.com/assets/colab-badge.svg\" alt=\"Open In Colab\"/></a>"
      ]
    },
    {
      "cell_type": "markdown",
      "metadata": {
        "id": "JB22eBTzhaNj"
      },
      "source": [
        "# The RL Model\n",
        "---\n",
        "Relevant Features:\n",
        "*   **Deep RL** + **Search**\n",
        "*   Characterized as a **SOMDP** (Semi-Observable Markov Decision Process)\n"
      ]
    },
    {
      "cell_type": "markdown",
      "metadata": {
        "id": "kYIzWsbUO9A7"
      },
      "source": [
        "### 1. Explanations, **Theory** & Math"
      ]
    },
    {
      "cell_type": "markdown",
      "source": [
        "In `Reinforcement Learning` (`RL`), a decision-making agent must learn to interact with an environment, through a series of actions, in order to maximize it's expected long-term return.\n",
        "\n",
        "This interaction is formalized using the framework of a `Markov Decision Process` $\\color{cyan}{M}$ \n",
        "> *see the section on Markov Decision Processes for more info*"
      ],
      "metadata": {
        "id": "A8EW04ByI085"
      }
    },
    {
      "cell_type": "markdown",
      "metadata": {
        "id": "bnhbr1onli7F"
      },
      "source": [
        "#### i. **Explanation**: `World States` & `Histories`\n"
      ]
    },
    {
      "cell_type": "markdown",
      "metadata": {
        "id": "9T82vlV6heZf"
      },
      "source": [
        "\n",
        "\n",
        "1. Here we consider a game with $\\mathcal{\\color{salmon}{N}}= \\{1,2,...,\\color{salmon}{N}\\}$ `Agents`.\n",
        "\n",
        "2. A state in the game is referred to as the `World State` **$\\color{cadetblue}{w} \\in \\mathcal{\\color{cadetblue}{W}}$**.\n",
        "\n",
        "3. The `Space of Joint Actions` is $\\mathcal{\\color{red}{A}} = $ $\\mathcal{\\color{red}{A}}_{1}$ x $\\mathcal{\\color{red}{A}}_{2}$ x $\\mathcal{\\color{red}{A}}_{3}$ x ...  x $\\mathcal{\\color{red}{A}}_{\\color{salmon}{N}}$ where\n",
        "> $\\mathcal{\\color{red}{A}}_{\\color{magenta}{i}}(\\color{cadetblue}{w})$ denotes the set of *legal* `actions` for agent $\\color{magenta}{i}$ at `world state` $\\color{cadetblue}{w}$ and\n",
        "> \n",
        "> $\\color{red}{a} = (\\color{red}{a}_{1}, \\color{red}{a}_{2},...,\\color{red}{a}_{\\color{salmon}{N}}) \\in \\mathcal{\\color{red}{A}}$ denotes a `joint action`.\n",
        "4. After a joint action $\\color{red}{a}$ is chosen, a `transition function` $\\mathcal{\\color{plum}{T}}$ determines the Next `World State` $\\color{cadetblue}{w}^{'}$ drawn from the probability distribution $\\mathcal{\\color{plum}{T}}(\\color{cadetblue}{w},\\color{red}{a}) \\in \\Delta \\mathcal{\\color{cadetblue}{W}}$.\n",
        ">$\\color{cadetblue}{w} \\Longrightarrow \\color{cadetblue}{w}^{'}$\n",
        "\n",
        "5. After `joint action` $\\color{red}{a}$, agent $\\color{magenta}{i}$ recieves a `Reward` $\\mathcal{\\color{gold}{R}}_{\\color{magenta}{i}}(\\color{cadetblue}{w},\\color{red}{a})$.\n",
        "\n",
        "6. Upon a `world state` transition from $\\color{cadetblue}{w}$ to $\\color{cadetblue}{w}^{'}$ via joint action $\\color{red}{a}$, `agent` $\\color{magenta}{i}$ recieves two `observations`\n",
        "    \n",
        "    *   the `Private Observation` from the function:\n",
        "    > $\\mathcal{\\color{indigo}{O}}_{priv}(\\color{cadetblue}{w},\\color{red}{a},\\color{cadetblue}{w}^{'})$\n",
        "    \n",
        "    *  the `Public Observation` from the function:\n",
        "    > $\\mathcal{\\color{indigo}{O}}_{pub}(\\color{cadetblue}{w},\\color{red}{a},\\color{cadetblue}{w}^{'})$"
      ]
    },
    {
      "cell_type": "markdown",
      "metadata": {
        "id": "-K5GHhWj6Trz"
      },
      "source": [
        "7. A `History`, also called the trajectory, is a finite set of legal `actions` and `world states`, denoted $\\color{royalblue}{h} = (\\color{cadetblue}{w}^{0}, \\color{red}{a}^{0}, \\color{cadetblue}{w}^{1}, \\color{red}{a}^{1},...,\\color{cadetblue}{w}^{t})$.\n",
        "\n",
        "8. An `Infostate` $\\color{limegreen}{s}$, also called an `action-observation history` (AOH) for agent $\\color{magenta}{i}$ is a sequence of an `agents`'s `Observations` and `Actions`.\n",
        "\n",
        "    *   $\\color{limegreen}{s}_{\\color{magenta}{i}} = (\\mathcal{\\color{indigo}{O}}_\\color{magenta}{i}^0, \\color{red}{a}_\\color{magenta}{i}^0, \\mathcal{\\color{indigo}{O}}_\\color{magenta}{i}^1, \\color{red}{a}_\\color{magenta}{i}^1,...,\\mathcal{\\color{indigo}{O}}_\\color{magenta}{i}^t)$\n",
        "    \n",
        "    where\n",
        "$$\\mathcal{\\color{indigo}{O}}_\\color{magenta}{i}^k=\\Big(\\mathcal{\\color{indigo}{O}}_{priv(\\color{magenta}{i})}\\big(\\color{cadetblue}{w}^{k-1},\\color{red}{a}^{k-1},\\color{cadetblue}{w}^{k}\\big), \\mathcal{\\color{indigo}{O}}_{pub(\\color{magenta}{i})}\\big(\\color{cadetblue}{w}^{k-1},\\color{red}{a}^{k-1},\\color{cadetblue}{w}^{k}\\big)\\Big)$$\n",
        "    *   The unique `infostate` for `history` $\\color{royalblue}{h}$ for `agent` $\\color{magenta}{i}$ is denoted $\\color{limegreen}{s}_\\color{magenta}{i}(\\color{royalblue}{h})$, and the set of `histories` that correspond to $\\color{limegreen}{s}_\\color{magenta}{i}$ is denoted $\\mathcal{\\color{royalblue}{H}}(\\color{limegreen}{s}_\\color{magenta}{i})$\n",
        "\n",
        "9.   The `Public State`, denoted $\\color{limegreen}{s}_{\\text{pub}}$ is a sequence $\\big(\\mathcal{\\color{indigo}{O}}_{\\text{pub}}^0, \\mathcal{\\color{indigo}{O}}_{\\text{pub}}^1,..., \\mathcal{\\color{indigo}{O}}_{\\text{pub}}^t\\big)$"
      ]
    },
    {
      "cell_type": "markdown",
      "metadata": {
        "id": "xvdf3rB_7f5W"
      },
      "source": [
        "#### ii. **Explanation**: `Policies` & `Subgames`"
      ]
    },
    {
      "cell_type": "markdown",
      "metadata": {
        "id": "F19IiTLQ7vFE"
      },
      "source": [
        "1.   An `Agents` Policy $\\color{orange}{\\pi}_\\color{magenta}{i}$ is a function mapping from an `infostate` to a probability distribution over the possible `actions`.\n",
        "> $\\color{limegreen}{s}_\\color{magenta}{i} \\Longrightarrow^{\\color{orange}{\\pi}_\\color{magenta}{i}} \\mathcal{\\color{red}{A}}_\\color{magenta}{i}(\\color{cadetblue}{w})$\n",
        "\n",
        "\n",
        "2.   A **Policy Profile** $\\color{orange}{\\pi}$ is a tuple of `policies` $\\big(\\color{orange}{\\pi}_\\color{black}{1}, \\color{orange}{\\pi}_\\color{black}{2},..., \\color{orange}{\\pi}_\\color{salmon}{N}\\big)$ which, when in Nash Equilibrium, is a profile such that no `agent` $\\color{magenta}{i}$ can achieve a higher EV by change policy.\n",
        "    *   $\\color{orange}{\\pi}^*$ is the notation for a nash Equilibrium Policy Profile.\n",
        "    *   $\\color{orange}{\\pi}^*_\\color{magenta}{i}$ is the notation for a `Nash Equilibrium Policy` for `agent` $\\color{magenta}{i}$.\n",
        "\n",
        "3.   A **Subgame** is defined by root `history` $\\color{royalblue}{h}$ as all `histories` that can be reached going forward.\n",
        "    *   a **Depth-Limited Subgame** is a `subgame` that only extends for a limited number of `actions` into the future.\n",
        "    *   a **Leaf Node** is a `subgame` that has no legal `actions` left *(it is at the bottom of the tree)*\n",
        "\n",
        "\n"
      ]
    },
    {
      "cell_type": "markdown",
      "metadata": {
        "id": "P7FzLyEXOb8-"
      },
      "source": [
        "#### iii. **Explanation**: Transforming `World States` into `Public Belief States (PBS)`"
      ]
    },
    {
      "cell_type": "markdown",
      "metadata": {
        "id": "bgIjDlxTP4Pg"
      },
      "source": [
        "A PBS is described by a joint probability distribution over the Agent's possible infostates. Formally, \n",
        "\n",
        "\n",
        "1.   Given that $\\color{limegreen}{S}_\\color{magenta}{i}(\\color{limegreen}{s}_{\\text{pub}})$ is the set of possible `infostates` that agent $\\color{magenta}{i}$ may be in, given a `public state` $\\color{limegreen}{s}_{\\text{pub}}$.\n",
        "2.   and that $\\Delta \\color{limegreen}{S}_\\color{magenta}{i}(\\color{limegreen}{s}_{\\text{pub}})$ denotes the *probablity distribution* over those possible `infostates` of $\\color{limegreen}{S}_\\color{magenta}{i}(\\color{limegreen}{s}_{\\text{pub}})$\n",
        "\n",
        "then `Public Belief State` $\\color{purple}{\\beta} = \\big(\\Delta \\color{limegreen}{S}_{1}(\\color{limegreen}{s}_{\\text{pub}}), ..., \\color{limegreen}{S}_\\color{salmon}{N}(\\Delta\\color{limegreen}{s}_{\\text{pub}})\\big)$.\n",
        "\n",
        ">*Note: In perfect information games, the discrete representation and the belief representation are identical.*\n",
        "\n",
        "\n",
        "\n",
        "\n",
        "---\n",
        "\n",
        "The `Value` $\\color{tan}{V}$ for `Agent` $\\color{magenta}{i}$ of PBS $\\color{purple}{\\beta}$ when all `agents` play `policy profile` $\\color{orange}{\\pi}$ is:\n",
        "\n",
        "$$\\color{tan}{V}_\\color{magenta}{i}^\\color{orange}{\\pi}(\\color{purple}{\\beta})= \\sum_{\\color{royalblue}{h} \\in \\mathcal{\\color{royalblue}{H}}(\\color{limegreen}{s}_{\\text{pub}}(\\color{purple}{\\beta}))}\\big(p(\\color{royalblue}{h}|\\color{purple}{\\beta})\\big) * \\color{tan}{v}_\\color{magenta}{i}^\\color{orange}{\\pi}(\\color{royalblue}{h})$$\n",
        "\n",
        "\n",
        "\n",
        "> In `Two-Player-Zero-Sum` (`2p0s`) games, every PBS $\\color{purple}{\\beta}$ has a unique value $\\color{tan}{V}_\\color{magenta}{i}(\\color{purple}{\\beta})$ for each agent $\\color{magenta}{i}$.\n",
        "\n",
        "and\n",
        "\n",
        "> In `Two-Player-Zero-Sum` (`2p0s`) games, $\\color{tan}{V}_{1}(\\color{purple}{\\beta})=-\\color{tan}{V}_{2}(\\color{purple}{\\beta})$, meaning that one player must win at the expense of the other.\n",
        "\n"
      ]
    },
    {
      "cell_type": "markdown",
      "metadata": {
        "id": "9-_jJhL_X7oU"
      },
      "source": [
        "#### iv. **Explanation**: `Searching` for `PBSs`"
      ]
    },
    {
      "cell_type": "markdown",
      "metadata": {
        "id": "EjvhzXazYDnl"
      },
      "source": [
        "In `2p0s` games, the resultant high-dimensional belief representations are `convex optimization` problems; this allows for `gradient-descent`-like algorithms to search the space.\n",
        "\n",
        "> The search algorithms require the `Values` of the `Leaf Node`'s `infostates` for `PBSs`.\n",
        "\n",
        "In a `2p0s` game, the `Value` of `Infostate` $\\color{limegreen}{s}_\\color{magenta}{i}$ in $\\color{purple}{\\beta}$ assuming all other `agents` play `Nash Equilibrium` $\\color{orange}{\\pi}^*$ is the maximum `Value` that `agent` $\\color{magenta}{i}$ could obtain for any $\\color{limegreen}{s}_\\color{magenta}{i}$ through any `policy` in the `subgame` rooted at $\\color{purple}{\\beta}$. \n",
        "\n",
        "Formally,\n",
        "\n",
        "$$\\color{tan}{v}_\\color{magenta}{i}^\\color{orange}{\\pi^{\\color{black}{*}}}\\big(\\color{limegreen}{s}_\\color{magenta}{i}|\\color{purple}{\\beta}\\big)= \\sum_{\\color{royalblue}{h} \\in \\mathcal{\\color{royalblue}{H}}(\\color{limegreen}{s}_\\color{magenta}{i})}p\\big(\\color{royalblue}{h}|\\color{limegreen}{s}_\\color{magenta}{i}, \\color{purple}{\\beta_{\\color{black}{-}\\color{magenta}{i}}}\\big) * \\color{tan}{v}_\\color{magenta}{i}^{\\langle  \\color{orange}{\\pi_{\\color{magenta}{i}}\\color{black}{,}\\pi_{\\color{black}{-}\\color{magenta}{i}}}^{\\color{black}{*}}\\rangle}(\\color{royalblue}{h})$$\n",
        "\n",
        "Where:\n",
        "1.   $p\\big(\\color{royalblue}{h}|\\color{limegreen}{s}_\\color{magenta}{i}, \\color{purple}{\\beta_{\\color{black}{-}\\color{magenta}{i}}}\\big)$ is the probability of being in history $\\color{royalblue}{h}$, assuming $\\color{limegreen}{s}_\\color{magenta}{i}$ is reached and\n",
        "2.   the `joint probability distribution` over `infostates` for `agents` other than $\\color{magenta}{i}$ is $\\color{purple}{\\beta}_{-\\color{magenta}{i}}$.\n",
        "\n",
        "---\n",
        "\n",
        "Thus, rather than learn a PBS Value Function, we instead use an `Infostate-Value Function` $\\hat{\\color{tan}{v}}: \\mathcal{B} \\rightarrow \\mathbb{R}^{\\lvert \\color{limegreen}{S}_1 \\rvert+\\lvert \\color{limegreen}{S}_2 \\rvert}$ that directly approximates—for each `infostate` $\\color{limegreen}{s}_\\color{magenta}{i}$—the average of the sampled $\\color{tan}{v}_\\color{magenta}{i}^\\color{orange}{\\pi^{\\color{black}{*}}}\\big(\\color{limegreen}{s}_\\color{magenta}{i}|\\color{purple}{\\beta}\\big)$ values produced at $\\color{purple}{\\beta}$.\n"
      ]
    },
    {
      "cell_type": "markdown",
      "metadata": {
        "id": "4XDkWPsjmavQ"
      },
      "source": [
        "#### v. **Explanation**: `Self Play` `RL` + `Search` for `PBSs`"
      ]
    },
    {
      "cell_type": "markdown",
      "metadata": {
        "id": "cdeUazIYmmi0"
      },
      "source": [
        "The initial "
      ]
    },
    {
      "cell_type": "markdown",
      "metadata": {
        "id": "h3YJRzZPkfLf"
      },
      "source": [
        "#### *Color Code & Notes*"
      ]
    },
    {
      "cell_type": "markdown",
      "metadata": {
        "id": "ZwJzomgckbjC"
      },
      "source": [
        "$\\color{Cyan}{M}$\n",
        "\n",
        "    \\color{cyan}{M}\n",
        "\n",
        "$\\color{magenta}{i}$\n",
        "\n",
        "    \\color{magenta}{i}\n",
        "\n",
        "$\\color{orange}{\\pi}$\n",
        "\n",
        "    \\color{orange}{\\pi}\n",
        "\n",
        "$\\color{red}{a}$\n",
        "\n",
        "    \\color{red}{a}\n",
        "\n",
        "$\\color{limegreen}{s}$\n",
        "\n",
        "    \\color{limegreen}{s}\n",
        "\n",
        "$\\color{cadetblue}{w}$\n",
        "\n",
        "    \\color{cadetblue}{w}\n",
        "\n",
        "$\\color{salmon}{N}$\n",
        "\n",
        "    \\color{salmon}{N}\n",
        "\n",
        "$\\color{plum}{T}$\n",
        "\n",
        "    \\color{plum}{T}\n",
        "\n",
        "$\\color{tan}{V}$\n",
        "\n",
        "    \\color{tan}{V}\n",
        "\n",
        "$\\color{purple}{\\beta}$\n",
        "\n",
        "    \\color{purple}{\\beta}\n",
        "\n",
        "$\\color{yellow}{\\phi}$\n",
        "\n",
        "    \\color{purple}{\\beta}\n",
        "\n",
        "$\\mathcal{\\color{gold}{R}}$\n",
        "\n",
        "    \\mathcal{\\color{gold}{R}}"
      ]
    },
    {
      "cell_type": "markdown",
      "metadata": {
        "id": "WG8CLFp54qYI"
      },
      "source": [
        "# Markov Decision Processes"
      ]
    },
    {
      "cell_type": "markdown",
      "metadata": {
        "id": "fPdhKrwd_bgC"
      },
      "source": [
        "## Dynamic Programming:\n",
        "\n",
        "Simplifying a complicated problem by breaking it down into simpler sub-problems in a recursive manner. "
      ]
    },
    {
      "cell_type": "markdown",
      "metadata": {
        "id": "wI2D7QYw5aZ9"
      },
      "source": [
        "### 1. Objective Functions\n",
        "\n",
        "Any optimization problem has some objective: minimizing travel time, minimizing cost, maximizing profits, maximizing utility, etc. The mathematical function that describes this objective is called the objective function."
      ]
    },
    {
      "cell_type": "markdown",
      "metadata": {
        "id": "wQ3eYAgf-_oz"
      },
      "source": [
        "**Objective Functions** take TWO forms:\n",
        "\n",
        "1. <font color=red>**The Loss Function form:**</font>\n",
        "> A **Loss Function** aims to maximize the \"goodness\" of an action by minimizing the \"*cost*\" of that action; hence, loss functions are also sometimes called *Cost Functions*.\n",
        "2. <font color=green>**The Reward Function form:**</font>\n",
        ">A **Reward Runction** is (in some sense) the negative of a Loss Function; it aims to maximize the \"goodness\" of an action by maximizing the \"*reward*\" of that action; hence, reward functions are also called *profit functions*, *utility functions*, *fitness functions*, etc.—depending on the situation.\n"
      ]
    },
    {
      "cell_type": "markdown",
      "metadata": {
        "id": "92iLbtUy_weT"
      },
      "source": [
        "### 2. The Bellman Equations\n",
        "\n",
        "Breaking a large problem into a sequence of sub-problems"
      ]
    },
    {
      "cell_type": "markdown",
      "metadata": {
        "id": "sQ8wd0phDIkC"
      },
      "source": [
        "Optimization Problems that *span several decrete points in* <font color=limegreen>***time***</font> can often be broken down into smaller **sub-problems**. If a <font size=5px>***larger problem***</font> can be solved optimally by <font color=redorange>**breaking**</font> it into <font size=2px>***sub-problems***</font>, then by finding the optimal solutions to those <font size=2px>***sub-problems***</font>, then  the larger problem is said to have *optimal substructure*.\n",
        ">think of breaking a minute-long task into 1-second subtasks; then optimally completing those 1-second subtasks.\n",
        "\n",
        "This relationship (between the <font color=orange>*value*</font> of the <font size=5px>***larger problem***</font> and the <font color=orange>*values*</font> of the <font size=2px>***sub-problems***</font>) is characterized by the **Bellman equations**.\n",
        "\n",
        ">Keep in mind, however, that some Optimization Problems *cannot* be taken apart this way."
      ]
    },
    {
      "cell_type": "markdown",
      "metadata": {
        "id": "W5CfUAWHGGrK"
      },
      "source": [
        "More Formally, the Bellman Equations show that a dynamic optimization problem in discrete time can be stated in a recursive, step-by-step form by writing down the relationship between the value function in one period and the value function in the next period.\n",
        "\n",
        "This process of reasoning backwards in time, from the end to beginning of a problem, to determine the optimal sequence of actions is known as ***backward induction***.\n",
        "\n",
        "---\n",
        "\n",
        "Assuming the following:\n",
        "- $\\color{orange}{S}_{\\color{green}{t}}$ = the state at time $\\color{green}{t}$\n",
        "- $\\color{magenta}{V}_{\\color{blue}{\\pi}}^*(\\color{orange}{S}_{\\color{green}{t}})$: the *value* function **$\\color{magenta}{V}$** with the policy **$\\color{blue}{\\pi}$** of the state **$\\color{orange}{S}$** at time **$\\color{green}{t}$**\n",
        ">$\\color{magenta}{V}_{\\color{blue}{\\pi}}^*\\overset{\\Delta}{=}$ the optimal *value* function **$\\color{magenta}{V}$** with the policy **$\\color{blue}{\\pi}$**\n",
        "- $\\color{lime}{a}_\\color{green}{t}$ = the action taken at time $\\color{green}{t}$\n",
        ">At any state-time, the set of possible actions depends on the current state; we can write this as $\\color{lime}{a}_\\color{green}{t} \\in \\Gamma(\\color{orange}{S}_{\\color{green}{t}})$.\n",
        ">>Note that each $\\color{lime}{a}_\\color{green}{t}$ can represent multiple control variables.\n",
        "- $\\color{orange}{S}_{\\color{green}{t}+1}$ = $T(\\color{orange}{S}_{\\color{green}{t}}, \\color{lime}{a}_\\color{green}{t})$\n",
        ">The state changes from $\\color{orange}{S}_{\\color{green}{t}}$ to $\\color{orange}{S}_{\\color{green}{t}+1}$ as described by the transition function $T$, when action $\\color{lime}{a}_\\color{green}{t}$ is taken.\n",
        "- $\\color{red}{\\gamma^{\\color{green}{t}}}$ : the discount factor $\\color{red}{\\gamma}$ — adjusted by the remaining time $\\color{green}{t}$ until the infinite horizon $\\infty$.\n",
        ">$\\color{red}{\\gamma} \\in (0,1]$: the discount factor must be between 0 and 1.\n",
        "\n",
        "\n",
        "The Bellman Equation is thus written:\n",
        "\n",
        "$$\\color{magenta}{V}_{\\color{blue}{\\pi}}(\\color{orange}{S}_{\\color{green}{t}})\\overset{\\Delta}{=}\\text{max}_{\\{\\color{lime}{a}_\\color{green}{t}\\}_{\\color{green}{t}=0}^\\infty}\\sum_{\\color{green}{t}=0}^{\\infty}\\color{red}{\\gamma^{\\color{green}{t}}}\\color{teal}{R}_{\\color{green}{t}}$$"
      ]
    },
    {
      "cell_type": "markdown",
      "metadata": {
        "id": "iPsjS3ZAevKv"
      },
      "source": [
        "##Part 1: Markov Decision Processes\n",
        " What are they?"
      ]
    },
    {
      "cell_type": "markdown",
      "metadata": {
        "id": "xwybKGKpffiz"
      },
      "source": [
        "### 1. Understanding  Markov Decision Processes (MDPs):\n",
        "\n",
        "**Markov Decision Processes** are mathematical models that are used to formulate optimization policies"
      ]
    },
    {
      "cell_type": "markdown",
      "metadata": {
        "id": "5PTY8lk05QFb"
      },
      "source": [
        "The process of ***managing a stock portfolio*** can be described as a *Markov Decision Process*. \n",
        "\n",
        "A **MDP** consists of a tuple ($\\color{orange}{S}_{\\color{green}{t}}$, $\\color{lime}{a}_\\color{green}{t}$,  $\\color{pink}{P}_\\color{green}{t}$, $\\color{teal}{R}_\\color{green}{t}$, $\\color{red}{\\gamma}$), where:\n",
        "\n",
        "- $\\color{orange}{S}_{\\color{green}{t}}$ = the state at time $\\color{green}{t}$\n",
        ">$\\color{orange}{S}_{\\color{green}{t}}\\overset{\\Delta}{=}$ the sum price of the assets invested\n",
        "- $\\color{lime}{a}_\\color{green}{t}$ = the action taken at time $\\color{green}{t}$\n",
        ">$\\color{lime}{a}_\\color{green}{t} \\overset{\\Delta}{=} \\color{violet}{w}_{\\color{green}{t}+1}-\\color{violet}{w}_{\\color{green}{t}}$\n",
        ">>where $\\color{violet}{w}_\\color{green}{t}$ and $\\color{violet}{w}_{\\color{green}{t}+1}$ are weight vectors at time $\\color{green}{t}$ and $\\color{green}{t}+1$, respectively.\n",
        "- $\\color{pink}{P}_\\color{green}{t}$ = the probability of transforming the state from $\\color{orange}{S}_{\\color{green}{t}}$ to $\\color{orange}{S}_{\\color{green}{t}+1}$\n",
        "- $\\color{teal}{R}_\\color{green}{t}$ = the reward at time $\\color{green}{t}$\n",
        ">$\\color{teal}{R}_\\color{green}{t}\\overset{\\Delta}{=} \\color{cyan}{p}_{\\color{green}{t}+1}-\\color{cyan}{p}_{\\color{green}{t}}$\n",
        ">>where $\\color{cyan}{p}_{\\color{green}{t}+1}$ and $\\color{cyan}{p}_{\\color{green}{t}}$ are the portfolios at time $\\color{green}{t}$ and $\\color{green}{t}+1$\n",
        "\n",
        "- $\\color{red}{\\gamma}$ = the discount factor"
      ]
    },
    {
      "cell_type": "markdown",
      "metadata": {
        "id": "edfFK_nplee4"
      },
      "source": [
        "### 2. The simple Value Function: $\\color{magenta}{G}$\n",
        "\n",
        "The **simple *Value* function** is defined as:"
      ]
    },
    {
      "cell_type": "markdown",
      "metadata": {
        "id": "6aL2Yz3oyEJZ"
      },
      "source": [
        "$\\color{magenta}{G}_{\\color{blue}{\\pi}}(\\color{orange}{S}_{\\color{green}{t}})\\overset{\\Delta}{=}\\sum_{\\color{purple}{k}=\\color{green}{t}}^{\\color{green}{T}}\\color{red}{\\gamma^{\\color{purple}{k}\\color{black}{-}\\color{green}{t}}}\\color{teal}{R}_{\\color{purple}{k}}$ :\n",
        "\n",
        "- $\\color{magenta}{G}_{\\color{blue}{\\pi}}(\\color{orange}{S}_{\\color{green}{t}})$: the *value* function **$\\color{magenta}{G}$** with the policy **$\\color{blue}{\\pi}$** of the state **$\\color{orange}{S}$** at time **$\\color{green}{t}$**\n",
        "- $\\overset{\\Delta}{=}$ : is defined as\n",
        "- $\\sum_{\\color{purple}{k}=\\color{green}{t}}^{\\color{green}{T}}$ : the sum from the current time $\\color{green}{t}$ to farthest future time (last trading time) $\\color{green}{T}$\n",
        ">this is because the the value & reward of a state depend on the total future values & rewards (of the following time periods).\n",
        "\n",
        "- $\\color{red}{\\gamma^{\\color{purple}{k}\\color{black}{-}\\color{green}{t}}}$ : the discount factor $\\color{red}{\\gamma}$ : adjusted by the remaining time ($\\color{purple}{k}\\color{black}{-}\\color{green}{t}$) until the farthest future time (last trading time), $\\color{green}{T}$.\n",
        ">$\\color{red}{\\gamma} \\in (0,1]$: the discount factor must be between 0 and 1; the discount factor is just a form of exponential decay, in which $\\color{red}{\\gamma}$ must always be between 0 and 1.\n",
        "\n",
        "- $\\color{teal}{R}_{\\color{purple}{k}}$ : the reward function at time $\\color{purple}{k}$"
      ]
    },
    {
      "cell_type": "markdown",
      "metadata": {
        "id": "WILjKFk60FBN"
      },
      "source": [
        "Or, in one semi-confusing paragraph summary:\n",
        "\n",
        "The ***Value function*** **$\\color{magenta}{G}$** with the policy **$\\color{blue}{\\pi}$** of the state **$\\color{orange}{S}$** at time **$\\color{green}{t}$** is defined as the sum—from the current time $\\color{green}{t}$ to farthest future time (last trading time) $\\color{green}{T}$—of the rewards $\\color{teal}{R}$ at times $\\color{purple}{k}$, where each of those rewards ($\\color{teal}{R}$) is discounted by $\\color{red}{\\gamma}$, with $\\color{red}{\\gamma}$ adjusted for each time $\\color{purple}{k}$ by the remaining time ($\\color{purple}{k}\\color{black}{-}\\color{green}{t}$) until the farthest future trading time (last trading time), $\\color{green}{T}$. Thus, the value function essentially gives you the weighted sum of all future rewards, each discounted exponentially by it's time-distance from the present."
      ]
    },
    {
      "cell_type": "markdown",
      "metadata": {
        "id": "PWIdQRrUpjSR"
      },
      "source": [
        "### 3. The REAL Value Function\n",
        "Accounting for difficulties..."
      ]
    },
    {
      "cell_type": "markdown",
      "metadata": {
        "id": "OF6GjhAPp4CY"
      },
      "source": [
        "It would be nice if the aforementioned ***simple* value function** ($\\sum_{\\color{purple}{k}=\\color{green}{t}}^{\\color{green}{T}}\\color{red}{\\gamma^{\\color{purple}{k}\\color{black}{-}\\color{green}{t}}}\\color{teal}{R}_{\\color{purple}{k}}$) worked in practice, BUT it usually *doesn't*; in general, $\\color{magenta}{G}_{\\color{blue}{\\pi}}(\\color{orange}{S}_{\\color{green}{t}})$ cannot simply be obtained this way, so we need to *compute* its <font color=salmon>estimated</font> value by using our expectation of $\\color{magenta}{G}_{\\color{blue}{\\pi}}$.\n",
        "\n",
        "Because the policy $\\color{blue}{\\pi}$ is determined by the actions $\\color{lime}{a}$ we take, we first define the ***actual value function*** $\\color{olive}{Q}_{\\color{blue}{\\pi}}$ as:\n",
        "\n",
        "$$\\color{olive}{Q}_{\\color{blue}{\\pi}}(\\color{orange}{S}_{\\color{green}{t}}, \\color{lime}{a}_\\color{green}{t}) \\overset{\\Delta}{=} E[\\color{magenta}{G}_{\\color{blue}{\\pi}}(\\color{orange}{S}_{\\color{green}{t}})]$$\n",
        "\n",
        "Using this function, we can estimate the value of a state, and the actions that can be taken on that state, which is the basic principle of ***classic* Q-Learning**. Thus, wholy formalized, the equation looks like this:\n",
        "\n",
        "$$\\color{olive}{Q}_{\\color{blue}{\\pi}}(\\color{orange}{S}_{\\color{green}{t}}, \\color{lime}{a}_\\color{green}{t}) \\overset{\\Delta}{=} E[\\sum_{\\color{purple}{k}=\\color{green}{t}}^{\\color{green}{T}}\\color{red}{\\gamma^{\\color{purple}{k}\\color{black}{-}\\color{green}{t}}}\\color{teal}{R}_{\\color{purple}{k}}]$$\n",
        "> Or, in summary, we estimate the value of the possible state-actions we *could* take in the current state $\\color{orange}{S}_{\\color{green}{t}}$."
      ]
    },
    {
      "cell_type": "markdown",
      "metadata": {
        "id": "mhIIzhZ0yqc7"
      },
      "source": [
        ">`Learning` **requires** *all* the possible combinations of states and actions to be explicitly *known*; it is not tractible to solve problems with *infinite state space*, such as portfolio management in stock market, using the simple value equation."
      ]
    },
    {
      "cell_type": "markdown",
      "source": [
        "## V3 - ***Theory of Affordances***\n",
        "---\n",
        "\n"
      ],
      "metadata": {
        "id": "kTJKDsqkEnFz"
      }
    },
    {
      "cell_type": "markdown",
      "source": [
        "### Introduction & Vocab"
      ],
      "metadata": {
        "id": "6Fuad_gRE9KH"
      }
    },
    {
      "cell_type": "markdown",
      "source": [
        "1.   Affordances\n",
        "2.   Success\n",
        "3.   Intent\n",
        "4.   Partial Models\n",
        "\n"
      ],
      "metadata": {
        "id": "Q-1peNbcFCDr"
      }
    },
    {
      "cell_type": "markdown",
      "source": [
        "### **Technical Background**"
      ],
      "metadata": {
        "id": "uaX7G2llFpuv"
      }
    },
    {
      "cell_type": "markdown",
      "source": [
        "In this Reinforcement learning system, we characterize the framework using a Markov Decision Process.\n",
        "\n"
      ],
      "metadata": {
        "id": "kuHi3xylFudY"
      }
    },
    {
      "cell_type": "markdown",
      "metadata": {
        "id": "dkz_58cvabsK"
      },
      "source": [
        "#***Artificial Intelligence***: A Modern Approach\n",
        "\n",
        "\n",
        "---\n",
        "\n",
        "\n",
        "My Notes & Ideas"
      ]
    },
    {
      "cell_type": "markdown",
      "metadata": {
        "id": "K2bsHna6atqe"
      },
      "source": [
        "##I: Artificial Intelligence\n",
        "**Chapter 1:** Introduction"
      ]
    },
    {
      "cell_type": "markdown",
      "metadata": {
        "id": "ElE9bsDPa_wi"
      },
      "source": [
        "##I: Artificial Intelligence\n",
        "**Chapter 2:** Intelligent Agents"
      ]
    },
    {
      "cell_type": "markdown",
      "metadata": {
        "id": "F995sSYudEGs"
      },
      "source": [
        "![Screen Shot 2021-02-19 at 3.41.22 PM.png](data:image/png;base64,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)"
      ]
    },
    {
      "cell_type": "markdown",
      "metadata": {
        "id": "zcEJc9v0bOcR"
      },
      "source": [
        "An **`Agent`** is anything that can be viewed as *perceiving* its **`Environment`** through **`Sensors`** and *acting* upon that environment through **`Actuators`**.\n",
        "> We use the term **`Percept`** to refer to the agent’s *perceptual inputs at any given instant*. \n",
        "\n",
        "\n",
        ">An agent’s **`Percept Sequence`** is the complete history of everything the agent has ever perceived. *In general, an agent’s choice of action at any given instant can depend on the entire percept sequence observed to date, but not on anything it hasn’t perceived.*\n",
        "\n",
        "\n",
        "> We should emphasize that the notion of an **`Agent`** is meant to be a tool for analyzing systems, not an *absolute characterization* that divides the world into **`Agents`** and **`non-Agents`**.\n",
        "\n"
      ]
    },
    {
      "cell_type": "markdown",
      "metadata": {
        "id": "To3RifnNeAh7"
      },
      "source": [
        "###The **`Agent Function`** vs. **`The Agent Program`**\n",
        "\n"
      ]
    },
    {
      "cell_type": "markdown",
      "metadata": {
        "id": "0qegbccTfat5"
      },
      "source": [
        "The Function mapping `Percept Sequences` $\\Longrightarrow$ `Actions` is called the <font color='orangered'>**Agent Function**</font>. This function is an `External` characterization of the `Internal` function, which is called the <font color='royalblue'>**Agent Program**</font>.\n",
        "\n",
        "\n",
        "> The <font color='orangered'>**Agent Function**</font> is an abstract mathematical description; <font color='royalblue'>**Agent Program**</font> is a concrete implementation, running within some physical system.\n",
        "\n"
      ]
    },
    {
      "cell_type": "markdown",
      "metadata": {
        "id": "jo8u1P8-fXAd"
      },
      "source": [
        "Given an agent to experiment with, we can, in principle, construct an `Agent Function` table by trying out *all possible percept sequences* and *recording which actions* the agent does in response, like this:"
      ]
    },
    {
      "cell_type": "markdown",
      "metadata": {
        "id": "4ihbB2TFerXY"
      },
      "source": [
        "![Screen Shot 2021-02-19 at 3.57.55 PM.png](data:image/png;base64,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)"
      ]
    },
    {
      "cell_type": "markdown",
      "metadata": {
        "id": "IzkDgNvDi2PQ"
      },
      "source": [
        "###Good Behavior: The Concept of **`Rationality`**"
      ]
    },
    {
      "cell_type": "markdown",
      "metadata": {
        "id": "gj_nH40Pi0Ft"
      },
      "source": [
        "We evaluate the \"goodness\" of any `Environment` state using a <font color='goldenrod'>**Performance Measure**</font>.\n",
        "\n",
        "> Notice that we said `Environment` states, not `Agent` states. If we define \"goodness\" in terms of `agent’s` opinion of its own performance, an `agent` could achieve perfect `rationality` simply by deluding itself that its `performance` was perfect.\n",
        "\n",
        "As a general rule, it is better to design `performance measures` according to what one actually wants in the `environment`, rather than according to how one thinks the `agent` should behave."
      ]
    },
    {
      "cell_type": "markdown",
      "metadata": {
        "id": "E84qYtjKls1c"
      },
      "source": [
        "**`Rationality`**\n",
        "\n",
        "What is `rational` at any given time depends on four things:\n",
        "\n",
        "* The `performance measure` that defines the criterion of success.\n",
        "* The agent’s prior knowledge of the environment.\n",
        "* The `actions` that the agent can perform.\n",
        "* The agent’s `percept sequence to date`.\n",
        "\n",
        ">Thus, for each possible percept sequence, a `Rational Agent` should select an `action` that is expected to maximize its `performance measure`, given the evidence provided by the `percept sequence` and whatever `built-in knowledge` the agent has."
      ]
    },
    {
      "cell_type": "markdown",
      "metadata": {
        "id": "SJCS_vuK9Ci6"
      },
      "source": [
        "**`NOT Omniscience`**\n",
        "\n",
        "An omniscient agent knows the actual outcome of its actions and can act  accordingly; but omniscience is **impossible** in reality.\n",
        "\n",
        ">`Rationality` is not the same as `perfection`. `Rationality` maximizes *expected* performance, while perfection maximizes *actual* performance.\n",
        "\n",
        "Doing `actions` in order to modify *future* `percepts`, sometimes called **`Information Gathering`**, is an important part of `rationality`. A second example of information gathering is provided by the `exploration` that must be undertaken by an agent in an initially *unknown* `environment`.\n",
        "\n",
        "Our definition requires a `rational agent` not only to `gather information` but also to learn as much as possible from what it perceives.\n",
        "\n",
        "**`Autonomous Agents`**\n",
        "\n",
        "A rational agent should be **`autonomous`** — it should learn what it can to compensate for partial or incorrect prior knowledge.\n",
        "\n",
        ">As a practical matter, one seldom requires complete `autonomy` from the start: when the `agent` has had little or no experience, it would have to act randomly unless the designer gave some assistance.\n",
        "\n",
        ">Just as evolution provides animals with enough built-in reflexes to survive long enough to learn for themselves, it would be reasonable to provide an artificial intelligent agent with some initial knowledge as well as an ability to learn. After sufficient experience of its environment, the behavior of a rational agent can become effectively independent of its prior knowledge.\n",
        ">\n",
        ">Hence, the incorporation of learning allows one to design a single rational agent that will succeed in a vast variety of environments."
      ]
    },
    {
      "cell_type": "markdown",
      "metadata": {
        "id": "t--lO50m_bkB"
      },
      "source": [
        "### **`Task Environments`**\n",
        "\n",
        "We must think about **`task environments`**, which are essentially the “problems” to which `rational agents` are the “solutions.”"
      ]
    },
    {
      "cell_type": "markdown",
      "metadata": {
        "id": "DH4xeytr_1Og"
      },
      "source": [
        "In order to describe a `task environment`, we'll use the the **`PEAS description`**.\n",
        "\n",
        "The **`PEAS description`** of a `task environment` consists of:\n",
        "1.   **P**erformance\n",
        "2.   **E**nvironment\n",
        "3.   **A**ctuators\n",
        "4.   **S**ensors\n",
        "\n",
        ">What matters is not the distinction between “real” and “artificial” environments, but the complexity of the relationship among the behavior of the agent, the percept sequence generated by the environment, and the performance measure.\n",
        "\n"
      ]
    },
    {
      "cell_type": "markdown",
      "metadata": {
        "id": "wBjVBE9eBBXU"
      },
      "source": [
        "There are several **`Properies of task environments`**.\n",
        "\n",
        "The range of `task environments` that might arise in AI is obviously vast. We can, however, identify a fairly small number of dimensions along which task environments can be categorized.\n",
        "\n",
        "*   **`Fully Observable`** vs. **`Partially Observable`**\n",
        "\n",
        ">If an agent’s sensors give it access to the complete state of the environment at each point in time, then we say that the task environment is fully observable. Fully observable environments are convenient because the agent need\n",
        "*not* maintain any internal state to keep track of the world.\n",
        "\n",
        "*   **`Single-agent`** vs. **`Multi-agent`**\n",
        "\n",
        ">There are many types of Multi-agent environments. Some are competitive (ex: 2p0s games); others are cooperative (sometimes communication even emerges in these environments). Sometimes, competition can result in random actions being taken to avoid the pitfalls of predictability.\n",
        "\n",
        "*   **`Deterministic`** vs. **`Stochastic`**\n",
        "\n",
        ">If the next state of the environment is completely determined by the current state and the action executed by the agent, then we say the environment is deterministic; otherwise, it is stochastic.\n",
        ">\n",
        ">If the environment is partially observable, however, then it could appear to be stochastic. Most real situations are so complex that it is impossible to keep track of all the unobserved aspects; for practical purposes, they must be treated as stochastic.\n",
        ">\n",
        ">We say an environment is uncertain if it is not fully observable or not deterministic.\n",
        ">\n",
        ">Our use of the word “stochastic” generally implies that uncertainty about outcomes is quantified in terms of probabilities; a `nondeterministic` environment is one in which actions are characterized by their possible outcomes, but no probabilities are attached to them.\n",
        "\n",
        "*   **`Episodic`** vs. **`Sequential`**\n",
        "\n",
        ">In an `episodic` task environment, the agent’s experience is divided into atomic episodes. In each episode the agent receives a percept and then performs a single action. Crucially, the next episode does not depend on the actions taken in previous episodes. Many classification tasks are episodic.\n",
        "\n",
        "*   **`Static`** vs **`Dynamic`**\n",
        "\n",
        ">If the environment can change while an agent is deliberating, then we say the environment is `dynamic` for that agent; otherwise, it is `static`; If the environment itself does not change with the passage of time but the agent’s performance score does, then we say the environment is semidynamic.\n",
        "\n",
        "*   **`Discrete`** vs. **`Continuous`**\n",
        "\n",
        ">The discrete/continuous distinction applies to the state of the environment, to the way time is handled, and to the percepts and actions of the agent; if any of those spaces is defined as a set of finite items, then that space is discrete; otherwise it is continuous.\n",
        "\n",
        "*   **`Known`** vs. **`Unknown`**\n",
        "\n",
        ">Strictly speaking, this distinction refers not to the environment itself but to the agent’s (or designer’s) state of knowledge about the “laws of physics” of the environment. In a known environment, the outcomes (or outcome probabilities if the environment is stochastic) for all actions are given.\n",
        ">\n",
        ">It is quite possible for a known environment to be partially observable—for example, in solitaire card games, I know the rules but am still unable to see the cards that have not yet been turned over. Conversely, an unknown environment can be fully observable: in a new video game, the screen may show the entire game state but I still don’t know what the buttons do until I try them."
      ]
    },
    {
      "cell_type": "markdown",
      "metadata": {
        "id": "LgJrTKnuEquj"
      },
      "source": [
        "As one might expect, the hardest case is partially observable, multiagent, stochastic, sequential, dynamic, continuous, and unknown.\n",
        "\n",
        ">Also, many environments are episodic at higher levels than the agent’s individual actions."
      ]
    },
    {
      "cell_type": "markdown",
      "metadata": {
        "id": "G4yto4kzE6DI"
      },
      "source": [
        "### The **`Structure`** of Agents"
      ]
    },
    {
      "cell_type": "markdown",
      "metadata": {
        "id": "-Y9nj9YhS7lU"
      },
      "source": [
        "An Agent = **`Architecture`** + **`Agent Program`**\n",
        "\n",
        "There are 4 types of Agent Programs:\n",
        "* Simple reflex agents;\n",
        "\n",
        "---\n",
        "\n",
        ">The simplest kind of agent is the simple reflex agent. These agents select actions on the basis of the current percept, ignoring the rest of the percept history.\n",
        ">\n",
        ">Simple reflex behaviors occur even in more complex environments. Imagine yourself as the driver of the automated taxi. If the car in front brakes and its brake lights come on, then you should notice this and initiate braking. In other words, some processing is done on the visual input to establish the condition we call “The car in front is braking.” Then, this triggers some established connection in the agent program to the action “initiate braking.” We call such a connection a condition–action rule.\n",
        "\n",
        "![Screen Shot 2021-02-19 at 7.43.32 PM.png](data:image/png;base64,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)\n",
        "\n",
        ">The agent will work only if the correct decision can be\n",
        "made on the basis of only the current percept—that is, only if the environment is fully observable!\n",
        "\n",
        "\n",
        ">A randomized simple reflex agent might outperform a deterministic simple reflex agent. In single-agent environments, randomization is usually not rational. It is a useful trick that helps a simple reflex agent in some situations, but in most cases we can do much better with more sophisticated deterministic agents."
      ]
    },
    {
      "cell_type": "markdown",
      "metadata": {
        "id": "lyomwyulUc1J"
      },
      "source": [
        "**Model-based reflex agents**\n",
        "\n",
        "---\n",
        "\n",
        "The most effective way to handle partial observability is for the agent to keep track of the part of the world it can’t see now. That is, the agent should maintain some sort of **`internal state`** that depends on the percept history and thereby reflects at least some of the unobserved aspects of the current state.\n",
        "\n",
        "Updating this internal state information as time goes by requires two kinds of knowledge to be encoded in the agent program. \n",
        "* First, we need some information about how the world evolves independently of the agent—for example, that an overtaking car generally will be closer behind than it was a moment ago. \n",
        "* Second, we need some information about how the agent’s own actions affect the world—for example, that when the agent turns the steering wheel clockwise, the car turns to the right, or that after driving for five minutes northbound on the freeway, one is usually about five miles north of where one was five minutes ago. \n",
        "\n",
        "This knowledge about “how the world works”—whether implemented in simple Boolean circuits or in complete scientific theories—is called a model of the world. An agent that uses such a model is called a **`model-based`** agent."
      ]
    },
    {
      "cell_type": "markdown",
      "metadata": {
        "id": "UUAbYj5HUds8"
      },
      "source": [
        "* Model-based reflex agents;\n",
        "* Goal-based agents; and\n",
        "* Utility-based agent"
      ]
    },
    {
      "cell_type": "markdown",
      "metadata": {
        "id": "47-VnGcnUeA0"
      },
      "source": [
        "* Model-based reflex agents;\n",
        "* Goal-based agents; and\n",
        "* Utility-based agents."
      ]
    },
    {
      "cell_type": "markdown",
      "metadata": {
        "id": "SLfNvEeadbsr"
      },
      "source": [
        "##II: Problem Solving\n",
        "\n",
        "**Chapter 3:** Solving Problems by Searching"
      ]
    },
    {
      "cell_type": "markdown",
      "metadata": {
        "id": "W6GyMpMidwD1"
      },
      "source": [
        ""
      ]
    }
  ]
}